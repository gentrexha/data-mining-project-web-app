{
 "cells": [
  {
   "cell_type": "code",
   "execution_count": 1,
   "metadata": {},
   "outputs": [
    {
     "data": {
      "text/plain": [
       "'C:\\\\Projects\\\\Personal\\\\data-mining-project-web-app\\\\notebooks'"
      ]
     },
     "execution_count": 1,
     "metadata": {},
     "output_type": "execute_result"
    }
   ],
   "source": [
    "import os\n",
    "os.getcwd()"
   ]
  },
  {
   "cell_type": "code",
   "execution_count": 55,
   "metadata": {},
   "outputs": [],
   "source": [
    "import pandas as pd\n",
    "from ftfy import fix_encoding\n",
    "\n",
    "df = pd.read_csv(\"../data/datarrethkryetarevekomunave.csv\")\n",
    "df[\"Data\"] = pd.to_datetime(df[\"Data\"])\n",
    "# The next 2 steps can be created with default libraries as well\n",
    "# It's probably faster too, if done so.\n",
    "df[\"Komuna\"] = df[\"Komuna\"].apply(lambda x: fix_encoding(x))\n",
    "df[\"Partia\"] = df[\"Partia\"].apply(lambda x: fix_encoding(x))\n",
    "df.head()\n",
    "df.to_csv(\"../data/datarrethkryetarevekomunave.csv\", index=False)"
   ]
  },
  {
   "cell_type": "code",
   "execution_count": 56,
   "metadata": {},
   "outputs": [
    {
     "data": {
      "text/html": [
       "<div>\n",
       "<style scoped>\n",
       "    .dataframe tbody tr th:only-of-type {\n",
       "        vertical-align: middle;\n",
       "    }\n",
       "\n",
       "    .dataframe tbody tr th {\n",
       "        vertical-align: top;\n",
       "    }\n",
       "\n",
       "    .dataframe thead th {\n",
       "        text-align: right;\n",
       "    }\n",
       "</style>\n",
       "<table border=\"1\" class=\"dataframe\">\n",
       "  <thead>\n",
       "    <tr style=\"text-align: right;\">\n",
       "      <th></th>\n",
       "      <th>EmriKandidatit</th>\n",
       "      <th>Data</th>\n",
       "      <th>NrLike</th>\n",
       "      <th>NrReaction</th>\n",
       "      <th>NrKomenteve</th>\n",
       "      <th>NrShare</th>\n",
       "      <th>nrPosteve</th>\n",
       "      <th>Partia</th>\n",
       "      <th>Komuna</th>\n",
       "    </tr>\n",
       "  </thead>\n",
       "  <tbody>\n",
       "    <tr>\n",
       "      <th>0</th>\n",
       "      <td>1555763194717660</td>\n",
       "      <td>2017-10-25</td>\n",
       "      <td>651</td>\n",
       "      <td>653</td>\n",
       "      <td>70</td>\n",
       "      <td>22</td>\n",
       "      <td>1</td>\n",
       "      <td>AAK</td>\n",
       "      <td>Istog</td>\n",
       "    </tr>\n",
       "    <tr>\n",
       "      <th>1</th>\n",
       "      <td>910656602314125</td>\n",
       "      <td>2017-10-25</td>\n",
       "      <td>83</td>\n",
       "      <td>87</td>\n",
       "      <td>1</td>\n",
       "      <td>6</td>\n",
       "      <td>1</td>\n",
       "      <td>LDK</td>\n",
       "      <td>Sharr</td>\n",
       "    </tr>\n",
       "    <tr>\n",
       "      <th>2</th>\n",
       "      <td>abrashiarban</td>\n",
       "      <td>2017-10-25</td>\n",
       "      <td>1068</td>\n",
       "      <td>1078</td>\n",
       "      <td>37</td>\n",
       "      <td>30</td>\n",
       "      <td>2</td>\n",
       "      <td>LDK</td>\n",
       "      <td>Prishtina</td>\n",
       "    </tr>\n",
       "    <tr>\n",
       "      <th>3</th>\n",
       "      <td>Agim.Bahtirii</td>\n",
       "      <td>2017-10-25</td>\n",
       "      <td>736</td>\n",
       "      <td>762</td>\n",
       "      <td>117</td>\n",
       "      <td>20</td>\n",
       "      <td>2</td>\n",
       "      <td>AKR</td>\n",
       "      <td>Mitrovica</td>\n",
       "    </tr>\n",
       "    <tr>\n",
       "      <th>4</th>\n",
       "      <td>AjetPotera2017</td>\n",
       "      <td>2017-10-25</td>\n",
       "      <td>600</td>\n",
       "      <td>612</td>\n",
       "      <td>31</td>\n",
       "      <td>29</td>\n",
       "      <td>1</td>\n",
       "      <td>Lëvizja VETËVENDOSJE!</td>\n",
       "      <td>Podujevë</td>\n",
       "    </tr>\n",
       "  </tbody>\n",
       "</table>\n",
       "</div>"
      ],
      "text/plain": [
       "     EmriKandidatit       Data  NrLike  NrReaction  NrKomenteve  NrShare  \\\n",
       "0  1555763194717660 2017-10-25     651         653           70       22   \n",
       "1   910656602314125 2017-10-25      83          87            1        6   \n",
       "2      abrashiarban 2017-10-25    1068        1078           37       30   \n",
       "3     Agim.Bahtirii 2017-10-25     736         762          117       20   \n",
       "4    AjetPotera2017 2017-10-25     600         612           31       29   \n",
       "\n",
       "   nrPosteve                 Partia     Komuna  \n",
       "0          1                    AAK      Istog  \n",
       "1          1                    LDK      Sharr  \n",
       "2          2                    LDK  Prishtina  \n",
       "3          2                    AKR  Mitrovica  \n",
       "4          1  Lëvizja VETËVENDOSJE!   Podujevë  "
      ]
     },
     "execution_count": 56,
     "metadata": {},
     "output_type": "execute_result"
    }
   ],
   "source": [
    "df = pd.read_csv(\"../data/datarrethkryetarevekomunave.csv\")\n",
    "df[\"Data\"] = pd.to_datetime(df[\"Data\"])\n",
    "df.head()"
   ]
  },
  {
   "cell_type": "code",
   "execution_count": 57,
   "metadata": {},
   "outputs": [
    {
     "data": {
      "text/plain": [
       "2        1068\n",
       "173         0\n",
       "183       504\n",
       "274      5137\n",
       "442         0\n",
       "457      7763\n",
       "547      3636\n",
       "633      6557\n",
       "723      6728\n",
       "811      8065\n",
       "974         0\n",
       "1063        0\n",
       "1152        0\n",
       "1241        0\n",
       "1330        0\n",
       "1419        0\n",
       "1508        0\n",
       "1597        0\n",
       "1686        0\n",
       "1775        0\n",
       "1864        0\n",
       "1953        0\n",
       "2042        0\n",
       "2131        0\n",
       "2220        0\n",
       "2309        0\n",
       "2398        0\n",
       "2487        0\n",
       "2576        0\n",
       "2665        0\n",
       "         ... \n",
       "11128    4222\n",
       "11218    5309\n",
       "11308    7003\n",
       "11398    7759\n",
       "11489    2879\n",
       "11580    4897\n",
       "11668    3441\n",
       "11757    1012\n",
       "11932       0\n",
       "11938    5108\n",
       "12028    2246\n",
       "12201       0\n",
       "12211     560\n",
       "12303    5157\n",
       "12473       0\n",
       "12488    7864\n",
       "12579    3652\n",
       "12666    6568\n",
       "12757    6728\n",
       "12846    8065\n",
       "13011       0\n",
       "13101       0\n",
       "13191       0\n",
       "13281       0\n",
       "13371       0\n",
       "13461       0\n",
       "13551       0\n",
       "13641       0\n",
       "13731       0\n",
       "13821       0\n",
       "Name: NrLike, Length: 155, dtype: int64"
      ]
     },
     "execution_count": 57,
     "metadata": {},
     "output_type": "execute_result"
    }
   ],
   "source": [
    "dff = df[df[\"Komuna\"] == \"Prishtina\"]\n",
    "dff[\"NrLike\"].loc[df[\"EmriKandidatit\"] == \"abrashiarban\"]"
   ]
  },
  {
   "cell_type": "code",
   "execution_count": null,
   "metadata": {},
   "outputs": [],
   "source": []
  }
 ],
 "metadata": {
  "kernelspec": {
   "display_name": "Python 3",
   "language": "python",
   "name": "python3"
  },
  "language_info": {
   "codemirror_mode": {
    "name": "ipython",
    "version": 3
   },
   "file_extension": ".py",
   "mimetype": "text/x-python",
   "name": "python",
   "nbconvert_exporter": "python",
   "pygments_lexer": "ipython3",
   "version": "3.6.8"
  }
 },
 "nbformat": 4,
 "nbformat_minor": 2
}
